{
 "cells": [
  {
   "cell_type": "markdown",
   "metadata": {},
   "source": [
    "Referensi"
   ]
  },
  {
   "cell_type": "markdown",
   "metadata": {},
   "source": [
    "Original Code"
   ]
  },
  {
   "cell_type": "code",
   "execution_count": 2,
   "metadata": {},
   "outputs": [
    {
     "data": {
      "text/plain": [
       "<Figure size 640x480 with 1 Axes>"
      ]
     },
     "metadata": {},
     "output_type": "display_data"
    },
    {
     "data": {
      "text/plain": [
       "'\\nbagian ini yang dipakai\\n\\nlink : https://stackabuse.com/affine-image-transformations-in-python-with-numpy-pillow-and-opencv/\\n'"
      ]
     },
     "execution_count": 2,
     "metadata": {},
     "output_type": "execute_result"
    }
   ],
   "source": [
    "import matplotlib.pyplot as plt\n",
    "import numpy as np\n",
    "import string\n",
    "\n",
    "# points a, b and, c\n",
    "a, b, c, d = (0, 1, 0), (1, 0, 1), (0, -1, 2), (-1, 0, 3)\n",
    "\n",
    "# matrix with row vectors of points\n",
    "A = np.array([a, b, c, d])\n",
    "\n",
    "# 3x3 Identity transformation matrix\n",
    "I = np.eye(3)\n",
    "\n",
    "color_lut = 'rgbc'\n",
    "fig = plt.figure()\n",
    "ax = plt.gca()\n",
    "xs = []\n",
    "ys = []\n",
    "for row in A:\n",
    "    output_row = I @ row\n",
    "    x, y, i = output_row\n",
    "    xs.append(x)\n",
    "    ys.append(y)\n",
    "    i = int(i) # convert float to int for indexing\n",
    "    c = color_lut[i]\n",
    "    plt.scatter(x, y, color=c)\n",
    "    plt.text(x + 0.15, y, f\"{string.ascii_letters[i]}\")\n",
    "xs.append(xs[0])\n",
    "ys.append(ys[0])\n",
    "plt.plot(xs, ys, color=\"gray\", linestyle='dotted')\n",
    "ax.set_xticks(np.arange(-2.5, 3, 0.5))\n",
    "ax.set_yticks(np.arange(-2.5, 3, 0.5))\n",
    "plt.grid()\n",
    "plt.show()\n",
    "\n",
    "\n",
    "'''\n",
    "bagian ini yang dipakai\n",
    "\n",
    "link : https://stackabuse.com/affine-image-transformations-in-python-with-numpy-pillow-and-opencv/\n",
    "'''"
   ]
  },
  {
   "cell_type": "code",
   "execution_count": null,
   "metadata": {},
   "outputs": [],
   "source": []
  }
 ],
 "metadata": {
  "kernelspec": {
   "display_name": "Python 3",
   "language": "python",
   "name": "python3"
  },
  "language_info": {
   "codemirror_mode": {
    "name": "ipython",
    "version": 3
   },
   "file_extension": ".py",
   "mimetype": "text/x-python",
   "name": "python",
   "nbconvert_exporter": "python",
   "pygments_lexer": "ipython3",
   "version": "3.6.5"
  }
 },
 "nbformat": 4,
 "nbformat_minor": 2
}
